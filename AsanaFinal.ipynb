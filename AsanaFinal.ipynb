{
 "cells": [
  {
   "cell_type": "code",
   "execution_count": 1,
   "metadata": {},
   "outputs": [],
   "source": [
    "import pandas as pd\n",
    "from datetime import datetime\n",
    "import numpy as np\n",
    "\n",
    "\n",
    "users=pd.read_csv(\"takehome_users-intern.csv\",encoding = \"ISO-8859-1\")\n",
    "users_eng=pd.read_csv(\"takehome_user_engagement-intern.csv\",encoding = \"ISO-8859-1\")"
   ]
  },
  {
   "cell_type": "code",
   "execution_count": 2,
   "metadata": {},
   "outputs": [
    {
     "data": {
      "text/html": [
       "<div>\n",
       "<style scoped>\n",
       "    .dataframe tbody tr th:only-of-type {\n",
       "        vertical-align: middle;\n",
       "    }\n",
       "\n",
       "    .dataframe tbody tr th {\n",
       "        vertical-align: top;\n",
       "    }\n",
       "\n",
       "    .dataframe thead th {\n",
       "        text-align: right;\n",
       "    }\n",
       "</style>\n",
       "<table border=\"1\" class=\"dataframe\">\n",
       "  <thead>\n",
       "    <tr style=\"text-align: right;\">\n",
       "      <th></th>\n",
       "      <th>time_stamp</th>\n",
       "      <th>user_id</th>\n",
       "      <th>visited</th>\n",
       "    </tr>\n",
       "  </thead>\n",
       "  <tbody>\n",
       "    <tr>\n",
       "      <th>0</th>\n",
       "      <td>2014-04-22 03:53:30</td>\n",
       "      <td>1</td>\n",
       "      <td>1</td>\n",
       "    </tr>\n",
       "    <tr>\n",
       "      <th>1</th>\n",
       "      <td>2013-11-15 03:45:04</td>\n",
       "      <td>2</td>\n",
       "      <td>1</td>\n",
       "    </tr>\n",
       "    <tr>\n",
       "      <th>2</th>\n",
       "      <td>2013-11-29 03:45:04</td>\n",
       "      <td>2</td>\n",
       "      <td>1</td>\n",
       "    </tr>\n",
       "    <tr>\n",
       "      <th>3</th>\n",
       "      <td>2013-12-09 03:45:04</td>\n",
       "      <td>2</td>\n",
       "      <td>1</td>\n",
       "    </tr>\n",
       "    <tr>\n",
       "      <th>4</th>\n",
       "      <td>2013-12-25 03:45:04</td>\n",
       "      <td>2</td>\n",
       "      <td>1</td>\n",
       "    </tr>\n",
       "  </tbody>\n",
       "</table>\n",
       "</div>"
      ],
      "text/plain": [
       "            time_stamp  user_id  visited\n",
       "0  2014-04-22 03:53:30        1        1\n",
       "1  2013-11-15 03:45:04        2        1\n",
       "2  2013-11-29 03:45:04        2        1\n",
       "3  2013-12-09 03:45:04        2        1\n",
       "4  2013-12-25 03:45:04        2        1"
      ]
     },
     "execution_count": 2,
     "metadata": {},
     "output_type": "execute_result"
    }
   ],
   "source": [
    "users_eng.head()"
   ]
  },
  {
   "cell_type": "code",
   "execution_count": 3,
   "metadata": {},
   "outputs": [
    {
     "data": {
      "text/plain": [
       "<matplotlib.axes._subplots.AxesSubplot at 0x25dcbf6ba58>"
      ]
     },
     "execution_count": 3,
     "metadata": {},
     "output_type": "execute_result"
    },
    {
     "data": {
      "image/png": "[encoded data removed]",
      "text/plain": [
       "<Figure size 432x288 with 1 Axes>"
      ]
     },
     "metadata": {
      "needs_background": "light"
     },
     "output_type": "display_data"
    }
   ],
   "source": [
    "\n",
    "users_eng.time_stamp=pd.to_datetime(pd.Series(users_eng.time_stamp))\n",
    "%matplotlib inline\n",
    "users_eng.groupby([users_eng[\"time_stamp\"].dt.year, users_eng[\"time_stamp\"].dt.month]).count().plot(kind=\"bar\")\n",
    "\n",
    "#Based on the plot we can see the range of timelines are from May'2012 to June'2014. Also we see the number of rows keep increasing\n",
    "# possibly becuase more and more users are using the platform"
   ]
  },
  {
   "cell_type": "code",
   "execution_count": 5,
   "metadata": {},
   "outputs": [
    {
     "data": {
      "text/html": [
       "<div>\n",
       "<style scoped>\n",
       "    .dataframe tbody tr th:only-of-type {\n",
       "        vertical-align: middle;\n",
       "    }\n",
       "\n",
       "    .dataframe tbody tr th {\n",
       "        vertical-align: top;\n",
       "    }\n",
       "\n",
       "    .dataframe thead th {\n",
       "        text-align: right;\n",
       "    }\n",
       "</style>\n",
       "<table border=\"1\" class=\"dataframe\">\n",
       "  <thead>\n",
       "    <tr style=\"text-align: right;\">\n",
       "      <th></th>\n",
       "      <th>time_stamp</th>\n",
       "      <th>user_id</th>\n",
       "      <th>visited</th>\n",
       "    </tr>\n",
       "  </thead>\n",
       "  <tbody>\n",
       "    <tr>\n",
       "      <th>0</th>\n",
       "      <td>2012-05-31 08:20:06</td>\n",
       "      <td>10012</td>\n",
       "      <td>1</td>\n",
       "    </tr>\n",
       "    <tr>\n",
       "      <th>1</th>\n",
       "      <td>2012-05-31 15:47:36</td>\n",
       "      <td>3428</td>\n",
       "      <td>1</td>\n",
       "    </tr>\n",
       "    <tr>\n",
       "      <th>2</th>\n",
       "      <td>2012-05-31 17:19:37</td>\n",
       "      <td>9899</td>\n",
       "      <td>1</td>\n",
       "    </tr>\n",
       "    <tr>\n",
       "      <th>3</th>\n",
       "      <td>2012-05-31 21:58:33</td>\n",
       "      <td>1693</td>\n",
       "      <td>1</td>\n",
       "    </tr>\n",
       "    <tr>\n",
       "      <th>4</th>\n",
       "      <td>2012-06-01 00:17:30</td>\n",
       "      <td>6102</td>\n",
       "      <td>1</td>\n",
       "    </tr>\n",
       "  </tbody>\n",
       "</table>\n",
       "</div>"
      ],
      "text/plain": [
       "           time_stamp  user_id  visited\n",
       "0 2012-05-31 08:20:06    10012        1\n",
       "1 2012-05-31 15:47:36     3428        1\n",
       "2 2012-05-31 17:19:37     9899        1\n",
       "3 2012-05-31 21:58:33     1693        1\n",
       "4 2012-06-01 00:17:30     6102        1"
      ]
     },
     "execution_count": 5,
     "metadata": {},
     "output_type": "execute_result"
    }
   ],
   "source": [
    "users_eng=users_eng.sort_values(by=[\"time_stamp\"])\n",
    "users_eng=users_eng.reset_index(drop=True)\n",
    "users_eng.head()"
   ]
  },
  {
   "cell_type": "code",
   "execution_count": 6,
   "metadata": {},
   "outputs": [],
   "source": [
    "\n",
    "def calculateYearMonthWeek(row):\n",
    "    return(row['time_stamp'].strftime('%Y')+row['time_stamp'].strftime('%m')+row['time_stamp'].strftime('%U'))\n",
    "\n",
    "\n",
    "\n",
    "users_eng['YearWeek']=users_eng.apply(calculateYearMonthWeek,axis=1)\n",
    "users_eng['weekday']=users_eng.time_stamp.dt.weekday\n",
    "\n"
   ]
  },
  {
   "cell_type": "code",
   "execution_count": 7,
   "metadata": {},
   "outputs": [
    {
     "data": {
      "text/html": [
       "<div>\n",
       "<style scoped>\n",
       "    .dataframe tbody tr th:only-of-type {\n",
       "        vertical-align: middle;\n",
       "    }\n",
       "\n",
       "    .dataframe tbody tr th {\n",
       "        vertical-align: top;\n",
       "    }\n",
       "\n",
       "    .dataframe thead th {\n",
       "        text-align: right;\n",
       "    }\n",
       "</style>\n",
       "<table border=\"1\" class=\"dataframe\">\n",
       "  <thead>\n",
       "    <tr style=\"text-align: right;\">\n",
       "      <th></th>\n",
       "      <th>time_stamp</th>\n",
       "      <th>user_id</th>\n",
       "      <th>visited</th>\n",
       "      <th>YearWeek</th>\n",
       "      <th>weekday</th>\n",
       "    </tr>\n",
       "  </thead>\n",
       "  <tbody>\n",
       "    <tr>\n",
       "      <th>0</th>\n",
       "      <td>2012-05-31 08:20:06</td>\n",
       "      <td>10012</td>\n",
       "      <td>1</td>\n",
       "      <td>20120522</td>\n",
       "      <td>3</td>\n",
       "    </tr>\n",
       "    <tr>\n",
       "      <th>1</th>\n",
       "      <td>2012-05-31 15:47:36</td>\n",
       "      <td>3428</td>\n",
       "      <td>1</td>\n",
       "      <td>20120522</td>\n",
       "      <td>3</td>\n",
       "    </tr>\n",
       "    <tr>\n",
       "      <th>2</th>\n",
       "      <td>2012-05-31 17:19:37</td>\n",
       "      <td>9899</td>\n",
       "      <td>1</td>\n",
       "      <td>20120522</td>\n",
       "      <td>3</td>\n",
       "    </tr>\n",
       "    <tr>\n",
       "      <th>3</th>\n",
       "      <td>2012-05-31 21:58:33</td>\n",
       "      <td>1693</td>\n",
       "      <td>1</td>\n",
       "      <td>20120522</td>\n",
       "      <td>3</td>\n",
       "    </tr>\n",
       "    <tr>\n",
       "      <th>4</th>\n",
       "      <td>2012-06-01 00:17:30</td>\n",
       "      <td>6102</td>\n",
       "      <td>1</td>\n",
       "      <td>20120622</td>\n",
       "      <td>4</td>\n",
       "    </tr>\n",
       "  </tbody>\n",
       "</table>\n",
       "</div>"
      ],
      "text/plain": [
       "           time_stamp  user_id  visited  YearWeek  weekday\n",
       "0 2012-05-31 08:20:06    10012        1  20120522        3\n",
       "1 2012-05-31 15:47:36     3428        1  20120522        3\n",
       "2 2012-05-31 17:19:37     9899        1  20120522        3\n",
       "3 2012-05-31 21:58:33     1693        1  20120522        3\n",
       "4 2012-06-01 00:17:30     6102        1  20120622        4"
      ]
     },
     "execution_count": 7,
     "metadata": {},
     "output_type": "execute_result"
    }
   ],
   "source": [
    "users_eng.head()"
   ]
  },
  {
   "cell_type": "code",
   "execution_count": 9,
   "metadata": {},
   "outputs": [
    {
     "name": "stdout",
     "output_type": "stream",
     "text": [
      "1403\n"
     ]
    },
    {
     "data": {
      "text/html": [
       "<div>\n",
       "<style scoped>\n",
       "    .dataframe tbody tr th:only-of-type {\n",
       "        vertical-align: middle;\n",
       "    }\n",
       "\n",
       "    .dataframe tbody tr th {\n",
       "        vertical-align: top;\n",
       "    }\n",
       "\n",
       "    .dataframe thead th {\n",
       "        text-align: right;\n",
       "    }\n",
       "</style>\n",
       "<table border=\"1\" class=\"dataframe\">\n",
       "  <thead>\n",
       "    <tr style=\"text-align: right;\">\n",
       "      <th></th>\n",
       "      <th>object_id</th>\n",
       "      <th>creation_time</th>\n",
       "      <th>name</th>\n",
       "      <th>email</th>\n",
       "      <th>creation_source</th>\n",
       "      <th>last_session_creation_time</th>\n",
       "      <th>opted_in_to_mailing_list</th>\n",
       "      <th>enabled_for_marketing_drip</th>\n",
       "      <th>org_id</th>\n",
       "      <th>invited_by_user_id</th>\n",
       "      <th>email_domain</th>\n",
       "      <th>adopted</th>\n",
       "    </tr>\n",
       "  </thead>\n",
       "  <tbody>\n",
       "    <tr>\n",
       "      <th>0</th>\n",
       "      <td>1</td>\n",
       "      <td>2014-04-22 03:53:30</td>\n",
       "      <td>Clausen August</td>\n",
       "      <td>AugustCClausen@yahoo.com</td>\n",
       "      <td>GUEST_INVITE</td>\n",
       "      <td>1.398139e+09</td>\n",
       "      <td>1</td>\n",
       "      <td>0</td>\n",
       "      <td>11</td>\n",
       "      <td>10803.0</td>\n",
       "      <td>yahoo.com</td>\n",
       "      <td>False</td>\n",
       "    </tr>\n",
       "    <tr>\n",
       "      <th>1</th>\n",
       "      <td>2</td>\n",
       "      <td>2013-11-15 03:45:04</td>\n",
       "      <td>Poole Matthew</td>\n",
       "      <td>MatthewPoole@gustr.com</td>\n",
       "      <td>ORG_INVITE</td>\n",
       "      <td>1.396238e+09</td>\n",
       "      <td>0</td>\n",
       "      <td>0</td>\n",
       "      <td>1</td>\n",
       "      <td>316.0</td>\n",
       "      <td>gustr.com</td>\n",
       "      <td>False</td>\n",
       "    </tr>\n",
       "    <tr>\n",
       "      <th>2</th>\n",
       "      <td>3</td>\n",
       "      <td>2013-03-19 23:14:52</td>\n",
       "      <td>Bottrill Mitchell</td>\n",
       "      <td>MitchellBottrill@gustr.com</td>\n",
       "      <td>ORG_INVITE</td>\n",
       "      <td>1.363735e+09</td>\n",
       "      <td>0</td>\n",
       "      <td>0</td>\n",
       "      <td>94</td>\n",
       "      <td>1525.0</td>\n",
       "      <td>gustr.com</td>\n",
       "      <td>False</td>\n",
       "    </tr>\n",
       "    <tr>\n",
       "      <th>3</th>\n",
       "      <td>4</td>\n",
       "      <td>2013-05-21 08:09:28</td>\n",
       "      <td>Clausen Nicklas</td>\n",
       "      <td>NicklasSClausen@yahoo.com</td>\n",
       "      <td>GUEST_INVITE</td>\n",
       "      <td>1.369210e+09</td>\n",
       "      <td>0</td>\n",
       "      <td>0</td>\n",
       "      <td>1</td>\n",
       "      <td>5151.0</td>\n",
       "      <td>yahoo.com</td>\n",
       "      <td>False</td>\n",
       "    </tr>\n",
       "    <tr>\n",
       "      <th>4</th>\n",
       "      <td>5</td>\n",
       "      <td>2013-01-17 10:14:20</td>\n",
       "      <td>Raw Grace</td>\n",
       "      <td>GraceRaw@yahoo.com</td>\n",
       "      <td>GUEST_INVITE</td>\n",
       "      <td>1.358850e+09</td>\n",
       "      <td>0</td>\n",
       "      <td>0</td>\n",
       "      <td>193</td>\n",
       "      <td>5240.0</td>\n",
       "      <td>yahoo.com</td>\n",
       "      <td>False</td>\n",
       "    </tr>\n",
       "  </tbody>\n",
       "</table>\n",
       "</div>"
      ],
      "text/plain": [
       "   object_id        creation_time               name  \\\n",
       "0          1  2014-04-22 03:53:30     Clausen August   \n",
       "1          2  2013-11-15 03:45:04      Poole Matthew   \n",
       "2          3  2013-03-19 23:14:52  Bottrill Mitchell   \n",
       "3          4  2013-05-21 08:09:28    Clausen Nicklas   \n",
       "4          5  2013-01-17 10:14:20          Raw Grace   \n",
       "\n",
       "                        email creation_source  last_session_creation_time  \\\n",
       "0    AugustCClausen@yahoo.com    GUEST_INVITE                1.398139e+09   \n",
       "1      MatthewPoole@gustr.com      ORG_INVITE                1.396238e+09   \n",
       "2  MitchellBottrill@gustr.com      ORG_INVITE                1.363735e+09   \n",
       "3   NicklasSClausen@yahoo.com    GUEST_INVITE                1.369210e+09   \n",
       "4          GraceRaw@yahoo.com    GUEST_INVITE                1.358850e+09   \n",
       "\n",
       "   opted_in_to_mailing_list  enabled_for_marketing_drip  org_id  \\\n",
       "0                         1                           0      11   \n",
       "1                         0                           0       1   \n",
       "2                         0                           0      94   \n",
       "3                         0                           0       1   \n",
       "4                         0                           0     193   \n",
       "\n",
       "   invited_by_user_id email_domain  adopted  \n",
       "0             10803.0    yahoo.com    False  \n",
       "1               316.0    gustr.com    False  \n",
       "2              1525.0    gustr.com    False  \n",
       "3              5151.0    yahoo.com    False  \n",
       "4              5240.0    yahoo.com    False  "
      ]
     },
     "execution_count": 9,
     "metadata": {},
     "output_type": "execute_result"
    }
   ],
   "source": [
    "## Calculating Acopted Users and appending it to the users dataframe\n",
    "## First we group by 'year+month+week' and 'day of week' and get all user IDs for each group, Then we filter unique user IDs\n",
    "## Then we group by 'year+month+week' so we get a 7-day period and count all the IDs who occured 3 or more times to get \n",
    "## adopted users\n",
    "g=users_eng.groupby(['YearWeek','weekday'])['user_id'].apply(lambda x: list(set(x)))\n",
    "g=g.to_frame().reset_index()\n",
    "g=g.groupby('YearWeek')['user_id'].apply(lambda x: list(x))\n",
    "g=g.to_frame()\n",
    "g.head()\n",
    "\n",
    "\n",
    "def filterAdopted(row):\n",
    "   listf= [item for sublist in row['user_id'] for item in sublist]\n",
    "   return([x for x in listf if listf.count(x)>=3])\n",
    "   #print(fltr)\n",
    "   #return(fl)\n",
    "    \n",
    "g['newuser']=g.apply(filterAdopted,axis=1)\n",
    "\n",
    "\n",
    "adopted1=g['newuser'].apply(pd.Series).stack().unique()      \n",
    "adopted1=list(map(int,adopted1))\n",
    "adopted1[:10]\n",
    "print(len(adopted1))\n",
    "\n",
    "## After we get list of adopted users , we then append it to the users dataframe as a new column\n",
    "## We get adopted users count as 1403\n",
    "users['adopted']=users['object_id'].isin(adopted1)\n",
    "users.head()\n",
    "\n",
    "## We see below that the adopted column is appened to the users dataframe"
   ]
  },
  {
   "cell_type": "code",
   "execution_count": 10,
   "metadata": {},
   "outputs": [
    {
     "data": {
      "image/png": "[encoded data removed]",
      "text/plain": [
       "<Figure size 432x288 with 1 Axes>"
      ]
     },
     "metadata": {},
     "output_type": "display_data"
    }
   ],
   "source": [
    "import seaborn as sns\n",
    "import matplotlib.pyplot as plt \n",
    "plt.rc(\"font\", size=14)\n",
    "\n",
    "%matplotlib inline\n",
    "sns.set(style=\"white\")\n",
    "sns.set(style=\"whitegrid\", color_codes=True)\n",
    "\n",
    "\n",
    "sns.countplot(x='adopted',data=users, palette='hls')\n",
    "plt.show()\n",
    "\n",
    "# We see that the classes(adopted and non-adopted) are imbalanced so we need to balance them both by over-sampling before fitting the model "
   ]
  },
  {
   "cell_type": "code",
   "execution_count": 11,
   "metadata": {},
   "outputs": [
    {
     "data": {
      "text/html": [
       "<div>\n",
       "<style scoped>\n",
       "    .dataframe tbody tr th:only-of-type {\n",
       "        vertical-align: middle;\n",
       "    }\n",
       "\n",
       "    .dataframe tbody tr th {\n",
       "        vertical-align: top;\n",
       "    }\n",
       "\n",
       "    .dataframe thead th {\n",
       "        text-align: right;\n",
       "    }\n",
       "</style>\n",
       "<table border=\"1\" class=\"dataframe\">\n",
       "  <thead>\n",
       "    <tr style=\"text-align: right;\">\n",
       "      <th></th>\n",
       "      <th>opted_in_to_mailing_list</th>\n",
       "      <th>enabled_for_marketing_drip</th>\n",
       "      <th>creatsrc_GUEST_INVITE</th>\n",
       "      <th>creatsrc_ORG_INVITE</th>\n",
       "      <th>creatsrc_PERSONAL_PROJECTS</th>\n",
       "      <th>creatsrc_SIGNUP</th>\n",
       "      <th>creatsrc_SIGNUP_GOOGLE_AUTH</th>\n",
       "    </tr>\n",
       "  </thead>\n",
       "  <tbody>\n",
       "    <tr>\n",
       "      <th>0</th>\n",
       "      <td>1</td>\n",
       "      <td>0</td>\n",
       "      <td>1</td>\n",
       "      <td>0</td>\n",
       "      <td>0</td>\n",
       "      <td>0</td>\n",
       "      <td>0</td>\n",
       "    </tr>\n",
       "    <tr>\n",
       "      <th>1</th>\n",
       "      <td>0</td>\n",
       "      <td>0</td>\n",
       "      <td>0</td>\n",
       "      <td>1</td>\n",
       "      <td>0</td>\n",
       "      <td>0</td>\n",
       "      <td>0</td>\n",
       "    </tr>\n",
       "    <tr>\n",
       "      <th>2</th>\n",
       "      <td>0</td>\n",
       "      <td>0</td>\n",
       "      <td>0</td>\n",
       "      <td>1</td>\n",
       "      <td>0</td>\n",
       "      <td>0</td>\n",
       "      <td>0</td>\n",
       "    </tr>\n",
       "    <tr>\n",
       "      <th>3</th>\n",
       "      <td>0</td>\n",
       "      <td>0</td>\n",
       "      <td>1</td>\n",
       "      <td>0</td>\n",
       "      <td>0</td>\n",
       "      <td>0</td>\n",
       "      <td>0</td>\n",
       "    </tr>\n",
       "    <tr>\n",
       "      <th>4</th>\n",
       "      <td>0</td>\n",
       "      <td>0</td>\n",
       "      <td>1</td>\n",
       "      <td>0</td>\n",
       "      <td>0</td>\n",
       "      <td>0</td>\n",
       "      <td>0</td>\n",
       "    </tr>\n",
       "  </tbody>\n",
       "</table>\n",
       "</div>"
      ],
      "text/plain": [
       "   opted_in_to_mailing_list  enabled_for_marketing_drip  \\\n",
       "0                         1                           0   \n",
       "1                         0                           0   \n",
       "2                         0                           0   \n",
       "3                         0                           0   \n",
       "4                         0                           0   \n",
       "\n",
       "   creatsrc_GUEST_INVITE  creatsrc_ORG_INVITE  creatsrc_PERSONAL_PROJECTS  \\\n",
       "0                      1                    0                           0   \n",
       "1                      0                    1                           0   \n",
       "2                      0                    1                           0   \n",
       "3                      1                    0                           0   \n",
       "4                      1                    0                           0   \n",
       "\n",
       "   creatsrc_SIGNUP  creatsrc_SIGNUP_GOOGLE_AUTH  \n",
       "0                0                            0  \n",
       "1                0                            0  \n",
       "2                0                            0  \n",
       "3                0                            0  \n",
       "4                0                            0  "
      ]
     },
     "execution_count": 11,
     "metadata": {},
     "output_type": "execute_result"
    }
   ],
   "source": [
    "#Creating of training set- Processing of categorical values\n",
    "\n",
    "# Creating One hot encoded columns for \"Creation_Source\" column since it a categorical column\n",
    " \n",
    "users_train=users[['creation_source','opted_in_to_mailing_list','enabled_for_marketing_drip','invited_by_user_id']]\n",
    "dfDummies = pd.get_dummies(users_train['creation_source'], prefix = 'creatsrc')\n",
    "users_train = pd.concat([users_train, dfDummies], axis=1)\n",
    "users_train=users_train.drop(['creation_source', 'invited_by_user_id'], axis=1)\n",
    "users_train.head()\n",
    "\n"
   ]
  },
  {
   "cell_type": "code",
   "execution_count": 41,
   "metadata": {},
   "outputs": [
    {
     "data": {
      "text/plain": [
       "Text(0, 0.5, 'Proportion of ADopted and Non ADopted Users')"
      ]
     },
     "execution_count": 41,
     "metadata": {},
     "output_type": "execute_result"
    },
    {
     "data": {
      "image/png": "[encoded data removed]",
      "text/plain": [
       "<Figure size 432x288 with 1 Axes>"
      ]
     },
     "metadata": {},
     "output_type": "display_data"
    }
   ],
   "source": [
    "table=pd.crosstab(users.creation_source,users.adopted)\n",
    "table.div(table.sum(1).astype(float), axis=0).plot(kind='bar', stacked=True)\n",
    "plt.title('Stacked Bar Chart of Creation Source')\n",
    "plt.xlabel('Creation Source')\n",
    "plt.ylabel('Proportion of ADopted and Non ADopted Users')\n"
   ]
  },
  {
   "cell_type": "code",
   "execution_count": 12,
   "metadata": {},
   "outputs": [
    {
     "data": {
      "text/html": [
       "<div>\n",
       "<style scoped>\n",
       "    .dataframe tbody tr th:only-of-type {\n",
       "        vertical-align: middle;\n",
       "    }\n",
       "\n",
       "    .dataframe tbody tr th {\n",
       "        vertical-align: top;\n",
       "    }\n",
       "\n",
       "    .dataframe thead th {\n",
       "        text-align: right;\n",
       "    }\n",
       "</style>\n",
       "<table border=\"1\" class=\"dataframe\">\n",
       "  <thead>\n",
       "    <tr style=\"text-align: right;\">\n",
       "      <th></th>\n",
       "      <th>opted_in_to_mailing_list</th>\n",
       "      <th>enabled_for_marketing_drip</th>\n",
       "      <th>creatsrc_GUEST_INVITE</th>\n",
       "      <th>creatsrc_ORG_INVITE</th>\n",
       "      <th>creatsrc_PERSONAL_PROJECTS</th>\n",
       "      <th>creatsrc_SIGNUP</th>\n",
       "      <th>creatsrc_SIGNUP_GOOGLE_AUTH</th>\n",
       "      <th>email_Others</th>\n",
       "      <th>email_gmail.com</th>\n",
       "      <th>email_gustr.com</th>\n",
       "      <th>email_hotmail.com</th>\n",
       "      <th>email_jourrapide.com</th>\n",
       "      <th>email_yahoo.com</th>\n",
       "    </tr>\n",
       "  </thead>\n",
       "  <tbody>\n",
       "    <tr>\n",
       "      <th>0</th>\n",
       "      <td>1</td>\n",
       "      <td>0</td>\n",
       "      <td>1</td>\n",
       "      <td>0</td>\n",
       "      <td>0</td>\n",
       "      <td>0</td>\n",
       "      <td>0</td>\n",
       "      <td>0</td>\n",
       "      <td>0</td>\n",
       "      <td>0</td>\n",
       "      <td>0</td>\n",
       "      <td>0</td>\n",
       "      <td>1</td>\n",
       "    </tr>\n",
       "    <tr>\n",
       "      <th>1</th>\n",
       "      <td>0</td>\n",
       "      <td>0</td>\n",
       "      <td>0</td>\n",
       "      <td>1</td>\n",
       "      <td>0</td>\n",
       "      <td>0</td>\n",
       "      <td>0</td>\n",
       "      <td>0</td>\n",
       "      <td>0</td>\n",
       "      <td>1</td>\n",
       "      <td>0</td>\n",
       "      <td>0</td>\n",
       "      <td>0</td>\n",
       "    </tr>\n",
       "    <tr>\n",
       "      <th>2</th>\n",
       "      <td>0</td>\n",
       "      <td>0</td>\n",
       "      <td>0</td>\n",
       "      <td>1</td>\n",
       "      <td>0</td>\n",
       "      <td>0</td>\n",
       "      <td>0</td>\n",
       "      <td>0</td>\n",
       "      <td>0</td>\n",
       "      <td>1</td>\n",
       "      <td>0</td>\n",
       "      <td>0</td>\n",
       "      <td>0</td>\n",
       "    </tr>\n",
       "    <tr>\n",
       "      <th>3</th>\n",
       "      <td>0</td>\n",
       "      <td>0</td>\n",
       "      <td>1</td>\n",
       "      <td>0</td>\n",
       "      <td>0</td>\n",
       "      <td>0</td>\n",
       "      <td>0</td>\n",
       "      <td>0</td>\n",
       "      <td>0</td>\n",
       "      <td>0</td>\n",
       "      <td>0</td>\n",
       "      <td>0</td>\n",
       "      <td>1</td>\n",
       "    </tr>\n",
       "    <tr>\n",
       "      <th>4</th>\n",
       "      <td>0</td>\n",
       "      <td>0</td>\n",
       "      <td>1</td>\n",
       "      <td>0</td>\n",
       "      <td>0</td>\n",
       "      <td>0</td>\n",
       "      <td>0</td>\n",
       "      <td>0</td>\n",
       "      <td>0</td>\n",
       "      <td>0</td>\n",
       "      <td>0</td>\n",
       "      <td>0</td>\n",
       "      <td>1</td>\n",
       "    </tr>\n",
       "  </tbody>\n",
       "</table>\n",
       "</div>"
      ],
      "text/plain": [
       "   opted_in_to_mailing_list  enabled_for_marketing_drip  \\\n",
       "0                         1                           0   \n",
       "1                         0                           0   \n",
       "2                         0                           0   \n",
       "3                         0                           0   \n",
       "4                         0                           0   \n",
       "\n",
       "   creatsrc_GUEST_INVITE  creatsrc_ORG_INVITE  creatsrc_PERSONAL_PROJECTS  \\\n",
       "0                      1                    0                           0   \n",
       "1                      0                    1                           0   \n",
       "2                      0                    1                           0   \n",
       "3                      1                    0                           0   \n",
       "4                      1                    0                           0   \n",
       "\n",
       "   creatsrc_SIGNUP  creatsrc_SIGNUP_GOOGLE_AUTH  email_Others  \\\n",
       "0                0                            0             0   \n",
       "1                0                            0             0   \n",
       "2                0                            0             0   \n",
       "3                0                            0             0   \n",
       "4                0                            0             0   \n",
       "\n",
       "   email_gmail.com  email_gustr.com  email_hotmail.com  email_jourrapide.com  \\\n",
       "0                0                0                  0                     0   \n",
       "1                0                1                  0                     0   \n",
       "2                0                1                  0                     0   \n",
       "3                0                0                  0                     0   \n",
       "4                0                0                  0                     0   \n",
       "\n",
       "   email_yahoo.com  \n",
       "0                1  \n",
       "1                0  \n",
       "2                0  \n",
       "3                1  \n",
       "4                1  "
      ]
     },
     "execution_count": 12,
     "metadata": {},
     "output_type": "execute_result"
    }
   ],
   "source": [
    "# Creating One hot encoded columns for \"Email Domain\"\n",
    "#Based on the distribution of the email domain as per the histogram chart created , we keep only the below email domain\n",
    "# and categorise the remaining as Others\n",
    "retainlist=['gmail.com','yahoo.com','jourrapide.com','cuvox.com','gustr.com','hotmail.com']\n",
    "\n",
    "t=list(map(lambda x: str(x) if x in retainlist else 'Others',users.email_domain))\n",
    "users['email_domain_new']=t\n",
    "#users.email_domain_new.value_counts()\n",
    "#users.email_domain_new.unique()\n",
    "\n",
    "dfDummies1 = pd.get_dummies(users['email_domain_new'], prefix = 'email')\n",
    "users_train = pd.concat([users_train, dfDummies1], axis=1)\n",
    "#users_train=users_train.drop(['creation_source', 'invited_by_user_id'], axis=1)\n",
    "users_train.head()\n"
   ]
  },
  {
   "cell_type": "code",
   "execution_count": 13,
   "metadata": {},
   "outputs": [
    {
     "data": {
      "text/plain": [
       "Text(0, 0.5, 'Proportion of ADopted and Non ADopted Users')"
      ]
     },
     "execution_count": 13,
     "metadata": {},
     "output_type": "execute_result"
    },
    {
     "data": {
      "image/png": "[encoded data removed]",
      "text/plain": [
       "<Figure size 432x288 with 1 Axes>"
      ]
     },
     "metadata": {},
     "output_type": "display_data"
    }
   ],
   "source": [
    "table=pd.crosstab(users.email_domain_new,users.adopted)\n",
    "table.div(table.sum(1).astype(float), axis=0).plot(kind='bar', stacked=True)\n",
    "plt.title('Stacked Bar Chart of Email Domain')\n",
    "plt.xlabel('Email Domain')\n",
    "plt.ylabel('Proportion of ADopted and Non ADopted Users')\n",
    "\n",
    "\n",
    "## From the below plot, we can see that email domain can be a good indicator for identifying Adopted User"
   ]
  },
  {
   "cell_type": "code",
   "execution_count": 14,
   "metadata": {},
   "outputs": [
    {
     "data": {
      "text/html": [
       "<div>\n",
       "<style scoped>\n",
       "    .dataframe tbody tr th:only-of-type {\n",
       "        vertical-align: middle;\n",
       "    }\n",
       "\n",
       "    .dataframe tbody tr th {\n",
       "        vertical-align: top;\n",
       "    }\n",
       "\n",
       "    .dataframe thead th {\n",
       "        text-align: right;\n",
       "    }\n",
       "</style>\n",
       "<table border=\"1\" class=\"dataframe\">\n",
       "  <thead>\n",
       "    <tr style=\"text-align: right;\">\n",
       "      <th></th>\n",
       "      <th>opted_in_to_mailing_list</th>\n",
       "      <th>enabled_for_marketing_drip</th>\n",
       "      <th>creatsrc_GUEST_INVITE</th>\n",
       "      <th>creatsrc_ORG_INVITE</th>\n",
       "      <th>creatsrc_PERSONAL_PROJECTS</th>\n",
       "      <th>creatsrc_SIGNUP</th>\n",
       "      <th>creatsrc_SIGNUP_GOOGLE_AUTH</th>\n",
       "      <th>email_Others</th>\n",
       "      <th>email_gmail.com</th>\n",
       "      <th>email_gustr.com</th>\n",
       "      <th>...</th>\n",
       "      <th>email_jourrapide.com</th>\n",
       "      <th>email_yahoo.com</th>\n",
       "      <th>month_diff_0.0</th>\n",
       "      <th>month_diff_1.0</th>\n",
       "      <th>month_diff_2.0</th>\n",
       "      <th>month_diff_3.0</th>\n",
       "      <th>month_diff_4.0</th>\n",
       "      <th>month_diff_5.0</th>\n",
       "      <th>month_diff_6.0</th>\n",
       "      <th>month_diff_7-25</th>\n",
       "    </tr>\n",
       "  </thead>\n",
       "  <tbody>\n",
       "    <tr>\n",
       "      <th>0</th>\n",
       "      <td>1</td>\n",
       "      <td>0</td>\n",
       "      <td>1</td>\n",
       "      <td>0</td>\n",
       "      <td>0</td>\n",
       "      <td>0</td>\n",
       "      <td>0</td>\n",
       "      <td>0</td>\n",
       "      <td>0</td>\n",
       "      <td>0</td>\n",
       "      <td>...</td>\n",
       "      <td>0</td>\n",
       "      <td>1</td>\n",
       "      <td>1</td>\n",
       "      <td>0</td>\n",
       "      <td>0</td>\n",
       "      <td>0</td>\n",
       "      <td>0</td>\n",
       "      <td>0</td>\n",
       "      <td>0</td>\n",
       "      <td>0</td>\n",
       "    </tr>\n",
       "    <tr>\n",
       "      <th>1</th>\n",
       "      <td>0</td>\n",
       "      <td>0</td>\n",
       "      <td>0</td>\n",
       "      <td>1</td>\n",
       "      <td>0</td>\n",
       "      <td>0</td>\n",
       "      <td>0</td>\n",
       "      <td>0</td>\n",
       "      <td>0</td>\n",
       "      <td>1</td>\n",
       "      <td>...</td>\n",
       "      <td>0</td>\n",
       "      <td>0</td>\n",
       "      <td>0</td>\n",
       "      <td>0</td>\n",
       "      <td>0</td>\n",
       "      <td>0</td>\n",
       "      <td>1</td>\n",
       "      <td>0</td>\n",
       "      <td>0</td>\n",
       "      <td>0</td>\n",
       "    </tr>\n",
       "    <tr>\n",
       "      <th>2</th>\n",
       "      <td>0</td>\n",
       "      <td>0</td>\n",
       "      <td>0</td>\n",
       "      <td>1</td>\n",
       "      <td>0</td>\n",
       "      <td>0</td>\n",
       "      <td>0</td>\n",
       "      <td>0</td>\n",
       "      <td>0</td>\n",
       "      <td>1</td>\n",
       "      <td>...</td>\n",
       "      <td>0</td>\n",
       "      <td>0</td>\n",
       "      <td>1</td>\n",
       "      <td>0</td>\n",
       "      <td>0</td>\n",
       "      <td>0</td>\n",
       "      <td>0</td>\n",
       "      <td>0</td>\n",
       "      <td>0</td>\n",
       "      <td>0</td>\n",
       "    </tr>\n",
       "    <tr>\n",
       "      <th>3</th>\n",
       "      <td>0</td>\n",
       "      <td>0</td>\n",
       "      <td>1</td>\n",
       "      <td>0</td>\n",
       "      <td>0</td>\n",
       "      <td>0</td>\n",
       "      <td>0</td>\n",
       "      <td>0</td>\n",
       "      <td>0</td>\n",
       "      <td>0</td>\n",
       "      <td>...</td>\n",
       "      <td>0</td>\n",
       "      <td>1</td>\n",
       "      <td>1</td>\n",
       "      <td>0</td>\n",
       "      <td>0</td>\n",
       "      <td>0</td>\n",
       "      <td>0</td>\n",
       "      <td>0</td>\n",
       "      <td>0</td>\n",
       "      <td>0</td>\n",
       "    </tr>\n",
       "    <tr>\n",
       "      <th>4</th>\n",
       "      <td>0</td>\n",
       "      <td>0</td>\n",
       "      <td>1</td>\n",
       "      <td>0</td>\n",
       "      <td>0</td>\n",
       "      <td>0</td>\n",
       "      <td>0</td>\n",
       "      <td>0</td>\n",
       "      <td>0</td>\n",
       "      <td>0</td>\n",
       "      <td>...</td>\n",
       "      <td>0</td>\n",
       "      <td>1</td>\n",
       "      <td>1</td>\n",
       "      <td>0</td>\n",
       "      <td>0</td>\n",
       "      <td>0</td>\n",
       "      <td>0</td>\n",
       "      <td>0</td>\n",
       "      <td>0</td>\n",
       "      <td>0</td>\n",
       "    </tr>\n",
       "  </tbody>\n",
       "</table>\n",
       "<p>5 rows × 21 columns</p>\n",
       "</div>"
      ],
      "text/plain": [
       "   opted_in_to_mailing_list  enabled_for_marketing_drip  \\\n",
       "0                         1                           0   \n",
       "1                         0                           0   \n",
       "2                         0                           0   \n",
       "3                         0                           0   \n",
       "4                         0                           0   \n",
       "\n",
       "   creatsrc_GUEST_INVITE  creatsrc_ORG_INVITE  creatsrc_PERSONAL_PROJECTS  \\\n",
       "0                      1                    0                           0   \n",
       "1                      0                    1                           0   \n",
       "2                      0                    1                           0   \n",
       "3                      1                    0                           0   \n",
       "4                      1                    0                           0   \n",
       "\n",
       "   creatsrc_SIGNUP  creatsrc_SIGNUP_GOOGLE_AUTH  email_Others  \\\n",
       "0                0                            0             0   \n",
       "1                0                            0             0   \n",
       "2                0                            0             0   \n",
       "3                0                            0             0   \n",
       "4                0                            0             0   \n",
       "\n",
       "   email_gmail.com  email_gustr.com  ...  email_jourrapide.com  \\\n",
       "0                0                0  ...                     0   \n",
       "1                0                1  ...                     0   \n",
       "2                0                1  ...                     0   \n",
       "3                0                0  ...                     0   \n",
       "4                0                0  ...                     0   \n",
       "\n",
       "   email_yahoo.com  month_diff_0.0  month_diff_1.0  month_diff_2.0  \\\n",
       "0                1               1               0               0   \n",
       "1                0               0               0               0   \n",
       "2                0               1               0               0   \n",
       "3                1               1               0               0   \n",
       "4                1               1               0               0   \n",
       "\n",
       "   month_diff_3.0  month_diff_4.0  month_diff_5.0  month_diff_6.0  \\\n",
       "0               0               0               0               0   \n",
       "1               0               1               0               0   \n",
       "2               0               0               0               0   \n",
       "3               0               0               0               0   \n",
       "4               0               0               0               0   \n",
       "\n",
       "   month_diff_7-25  \n",
       "0                0  \n",
       "1                0  \n",
       "2                0  \n",
       "3                0  \n",
       "4                0  \n",
       "\n",
       "[5 rows x 21 columns]"
      ]
     },
     "execution_count": 14,
     "metadata": {},
     "output_type": "execute_result"
    },
    {
     "data": {
      "image/png": "[encoded data removed]",
      "text/plain": [
       "<Figure size 432x288 with 1 Axes>"
      ]
     },
     "metadata": {},
     "output_type": "display_data"
    }
   ],
   "source": [
    "# creating a new column for time difference between accounted created time and last login time. As per analysis this seems to be a \n",
    "# good indicator for Adopted/Non-Adopted users\n",
    "\n",
    "##however we are notsure if we can use engagement information for Adoption users prediction. so we develop two models \n",
    "## one with Engagement information and one without Engagement information\n",
    "\n",
    "users.creation_time=pd.to_datetime(pd.Series(users.creation_time))\n",
    "users['last_session_creation_time']=pd.to_datetime(users['last_session_creation_time'], unit='s')   \n",
    "users.head()\n",
    "users['diff_month'] = users['last_session_creation_time'] - users['creation_time']\n",
    "users['diff_month']=(users['diff_month']/np.timedelta64(1,'M'))\n",
    "users['diff_month'] =list(map(lambda x :int(x) if (not np.isnan(x)) else x,users['diff_month']))\n",
    "users['diff_month']=users['diff_month'].fillna(0)\n",
    "users.head()\n",
    "\n",
    "users.groupby(['diff_month','adopted']).count()\n",
    "table=pd.crosstab(users.diff_month,users.adopted)\n",
    "table\n",
    "table.div(table.sum(1).astype(float), axis=0).plot(kind='bar', stacked=True)\n",
    "\n",
    "\n",
    "## Processing of diff_month column into categories.From the plot we identifying different bins to have difference between \n",
    "## creation time and last login tine into buckets 0,1,2,3,4,5,6,7-25\n",
    "\n",
    "users['diff_month_cat'] = pd.cut(x=users['diff_month'], bins=[6,25], labels=['7-25'])\n",
    "users['diff_month_cat'] = np.where(pd.isna(users['diff_month_cat']), users['diff_month'], users['diff_month_cat'])\n",
    "\n",
    "# Creating dummy variables for the diff_month column using One Hot Encoding \n",
    "\n",
    "dfDummies_diff = pd.get_dummies(users['diff_month_cat'], prefix = 'month_diff')\n",
    "dfDummies_diff\n",
    "users_train = pd.concat([users_train, dfDummies_diff], axis=1)\n",
    "users_train.head()\n",
    "\n",
    "\n"
   ]
  },
  {
   "cell_type": "code",
   "execution_count": 16,
   "metadata": {},
   "outputs": [
    {
     "data": {
      "text/plain": [
       "<matplotlib.axes._subplots.AxesSubplot at 0x25dcfe9f7b8>"
      ]
     },
     "execution_count": 16,
     "metadata": {},
     "output_type": "execute_result"
    },
    {
     "data": {
      "image/png": "[encoded data removed]",
      "text/plain": [
       "<Figure size 432x288 with 1 Axes>"
      ]
     },
     "metadata": {},
     "output_type": "display_data"
    }
   ],
   "source": [
    "## Processing of Account Creation Month \n",
    "\n",
    "from datetime import datetime\n",
    "users.creation_time=pd.to_datetime(pd.Series(users.creation_time))\n",
    "\n",
    "def takeMonth(row):\n",
    "    return(row['creation_time'].strftime('%m'))\n",
    "users['creation_month']=users.apply(takeMonth,axis=1)\n",
    "users.groupby(['creation_month','adopted']).count()\n",
    "\n",
    "dfDummies_creation = pd.get_dummies(users['creation_month'], prefix = 'created_month')\n",
    "dfDummies_creation\n",
    "users_train = pd.concat([users_train, dfDummies_creation], axis=1)\n",
    "users_train.head()\n",
    "\n",
    "\n",
    "## From the graph below , we can use creation_month as an indicator for ADopted/Non-Adopted users\n",
    "table=pd.crosstab(users.creation_month,users.adopted)\n",
    "table\n",
    "table.div(table.sum(1).astype(float), axis=0).plot(kind='bar', stacked=True)"
   ]
  },
  {
   "cell_type": "code",
   "execution_count": 17,
   "metadata": {},
   "outputs": [
    {
     "data": {
      "text/plain": [
       "0    10597\n",
       "1     1403\n",
       "Name: adopted, dtype: int64"
      ]
     },
     "execution_count": 17,
     "metadata": {},
     "output_type": "execute_result"
    }
   ],
   "source": [
    "##Conversion of ADopted values which is True/False into 1/0\n",
    "\n",
    "users['adopted']=users['adopted'].apply(lambda x: 1 if x == True else x)\n",
    "users['adopted']=users['adopted'].apply(lambda x: 0 if x == False else x)\n",
    "users['adopted'].value_counts()"
   ]
  },
  {
   "cell_type": "code",
   "execution_count": 18,
   "metadata": {},
   "outputs": [
    {
     "data": {
      "text/plain": [
       "Index(['opted_in_to_mailing_list', 'enabled_for_marketing_drip',\n",
       "       'creatsrc_GUEST_INVITE', 'creatsrc_ORG_INVITE',\n",
       "       'creatsrc_PERSONAL_PROJECTS', 'creatsrc_SIGNUP',\n",
       "       'creatsrc_SIGNUP_GOOGLE_AUTH', 'email_Others', 'email_gmail.com',\n",
       "       'email_gustr.com', 'email_hotmail.com', 'email_jourrapide.com',\n",
       "       'email_yahoo.com', 'month_diff_0.0', 'month_diff_1.0', 'month_diff_2.0',\n",
       "       'month_diff_3.0', 'month_diff_4.0', 'month_diff_5.0', 'month_diff_6.0',\n",
       "       'month_diff_7-25', 'created_month_01', 'created_month_02',\n",
       "       'created_month_03', 'created_month_04', 'created_month_05',\n",
       "       'created_month_06', 'created_month_07', 'created_month_08',\n",
       "       'created_month_09', 'created_month_10', 'created_month_11',\n",
       "       'created_month_12'],\n",
       "      dtype='object')"
      ]
     },
     "execution_count": 18,
     "metadata": {},
     "output_type": "execute_result"
    }
   ],
   "source": [
    "users_train.columns"
   ]
  },
  {
   "cell_type": "code",
   "execution_count": 19,
   "metadata": {},
   "outputs": [
    {
     "name": "stdout",
     "output_type": "stream",
     "text": [
      "8400\n",
      "3600\n",
      "8400\n",
      "3600\n",
      "length of oversampled data is  14820\n",
      "Number of no subscription in oversampled data 7410\n",
      "Number of subscription 7410\n",
      "Proportion of 'No Adopted' Data in oversampled data is  0.5\n",
      "Proportion of 'Adopted' data in oversampled data is  0.5\n"
     ]
    }
   ],
   "source": [
    "##Correct the imbalanced classes in the target variable by up-sampling from the minority class\n",
    "## using SMOTE algorithm(Synthetic Minority Oversampling Technique)\n",
    "\n",
    "from imblearn.over_sampling import SMOTE\n",
    "from sklearn.linear_model import LogisticRegression\n",
    "from sklearn.model_selection import train_test_split\n",
    "\n",
    "os = SMOTE(random_state=0)\n",
    "X_train, X_test, y_train, y_test = train_test_split(users_train, users['adopted'], test_size=0.3, random_state=0)\n",
    "columns = X_train.columns\n",
    "print(len(X_train))\n",
    "print(len(X_test))\n",
    "print(len(y_train))\n",
    "print(len(y_test))\n",
    "\n",
    "os_data_X,os_data_y=os.fit_sample(X_train, y_train)\n",
    "os_data_X = pd.DataFrame(data=os_data_X,columns=columns )\n",
    "os_data_y= pd.DataFrame(data=os_data_y,columns=['adopted'])\n",
    "#we can Check the numbers of our data\n",
    "print(\"length of oversampled data is \",len(os_data_X))\n",
    "print(\"Number of no subscription in oversampled data\",len(os_data_y[os_data_y['adopted']==False]))\n",
    "print(\"Number of subscription\",len(os_data_y[os_data_y['adopted']==True]))\n",
    "print(\"Proportion of 'No Adopted' Data in oversampled data is \",len(os_data_y[os_data_y['adopted']==False])/len(os_data_X))\n",
    "print(\"Proportion of 'Adopted' data in oversampled data is \",len(os_data_y[os_data_y['adopted']==True])/len(os_data_X))\n",
    "\n",
    "# We see that the propotions are equal and the upsampled data can now be used for Model Fitting\n"
   ]
  },
  {
   "cell_type": "code",
   "execution_count": 20,
   "metadata": {},
   "outputs": [
    {
     "name": "stderr",
     "output_type": "stream",
     "text": [
      "C:\\Users\\chintana\\Anaconda3\\lib\\site-packages\\sklearn\\linear_model\\logistic.py:432: FutureWarning: Default solver will be changed to 'lbfgs' in 0.22. Specify a solver to silence this warning.\n",
      "  FutureWarning)\n",
      "C:\\Users\\chintana\\Anaconda3\\lib\\site-packages\\sklearn\\linear_model\\logistic.py:432: FutureWarning: Default solver will be changed to 'lbfgs' in 0.22. Specify a solver to silence this warning.\n",
      "  FutureWarning)\n",
      "C:\\Users\\chintana\\Anaconda3\\lib\\site-packages\\sklearn\\linear_model\\logistic.py:432: FutureWarning: Default solver will be changed to 'lbfgs' in 0.22. Specify a solver to silence this warning.\n",
      "  FutureWarning)\n",
      "C:\\Users\\chintana\\Anaconda3\\lib\\site-packages\\sklearn\\linear_model\\logistic.py:432: FutureWarning: Default solver will be changed to 'lbfgs' in 0.22. Specify a solver to silence this warning.\n",
      "  FutureWarning)\n",
      "C:\\Users\\chintana\\Anaconda3\\lib\\site-packages\\sklearn\\linear_model\\logistic.py:432: FutureWarning: Default solver will be changed to 'lbfgs' in 0.22. Specify a solver to silence this warning.\n",
      "  FutureWarning)\n",
      "C:\\Users\\chintana\\Anaconda3\\lib\\site-packages\\sklearn\\linear_model\\logistic.py:432: FutureWarning: Default solver will be changed to 'lbfgs' in 0.22. Specify a solver to silence this warning.\n",
      "  FutureWarning)\n",
      "C:\\Users\\chintana\\Anaconda3\\lib\\site-packages\\sklearn\\linear_model\\logistic.py:432: FutureWarning: Default solver will be changed to 'lbfgs' in 0.22. Specify a solver to silence this warning.\n",
      "  FutureWarning)\n",
      "C:\\Users\\chintana\\Anaconda3\\lib\\site-packages\\sklearn\\linear_model\\logistic.py:432: FutureWarning: Default solver will be changed to 'lbfgs' in 0.22. Specify a solver to silence this warning.\n",
      "  FutureWarning)\n",
      "C:\\Users\\chintana\\Anaconda3\\lib\\site-packages\\sklearn\\linear_model\\logistic.py:432: FutureWarning: Default solver will be changed to 'lbfgs' in 0.22. Specify a solver to silence this warning.\n",
      "  FutureWarning)\n",
      "C:\\Users\\chintana\\Anaconda3\\lib\\site-packages\\sklearn\\linear_model\\logistic.py:432: FutureWarning: Default solver will be changed to 'lbfgs' in 0.22. Specify a solver to silence this warning.\n",
      "  FutureWarning)\n",
      "C:\\Users\\chintana\\Anaconda3\\lib\\site-packages\\sklearn\\linear_model\\logistic.py:432: FutureWarning: Default solver will be changed to 'lbfgs' in 0.22. Specify a solver to silence this warning.\n",
      "  FutureWarning)\n",
      "C:\\Users\\chintana\\Anaconda3\\lib\\site-packages\\sklearn\\linear_model\\logistic.py:432: FutureWarning: Default solver will be changed to 'lbfgs' in 0.22. Specify a solver to silence this warning.\n",
      "  FutureWarning)\n",
      "C:\\Users\\chintana\\Anaconda3\\lib\\site-packages\\sklearn\\linear_model\\logistic.py:432: FutureWarning: Default solver will be changed to 'lbfgs' in 0.22. Specify a solver to silence this warning.\n",
      "  FutureWarning)\n"
     ]
    },
    {
     "name": "stdout",
     "output_type": "stream",
     "text": [
      "[False False False False False False False  True  True  True  True  True\n",
      "  True  True  True  True  True False False False  True  True  True False\n",
      " False False  True  True  True  True  True  True  True]\n",
      "[14 11  8  9  5  7  6  1  1  1  1  1  1  1  1  1  1 12 13 10  1  1  1  3\n",
      "  4  2  1  1  1  1  1  1  1]\n"
     ]
    },
    {
     "name": "stderr",
     "output_type": "stream",
     "text": [
      "C:\\Users\\chintana\\Anaconda3\\lib\\site-packages\\sklearn\\linear_model\\logistic.py:432: FutureWarning: Default solver will be changed to 'lbfgs' in 0.22. Specify a solver to silence this warning.\n",
      "  FutureWarning)\n"
     ]
    },
    {
     "data": {
      "text/plain": [
       "Index(['opted_in_to_mailing_list', 'enabled_for_marketing_drip',\n",
       "       'creatsrc_GUEST_INVITE', 'creatsrc_ORG_INVITE',\n",
       "       'creatsrc_PERSONAL_PROJECTS', 'creatsrc_SIGNUP',\n",
       "       'creatsrc_SIGNUP_GOOGLE_AUTH', 'email_Others', 'email_gmail.com',\n",
       "       'email_gustr.com', 'email_hotmail.com', 'email_jourrapide.com',\n",
       "       'email_yahoo.com', 'month_diff_0.0', 'month_diff_1.0', 'month_diff_2.0',\n",
       "       'month_diff_3.0', 'month_diff_4.0', 'month_diff_5.0', 'month_diff_6.0',\n",
       "       'month_diff_7-25', 'created_month_01', 'created_month_02',\n",
       "       'created_month_03', 'created_month_04', 'created_month_05',\n",
       "       'created_month_06', 'created_month_07', 'created_month_08',\n",
       "       'created_month_09', 'created_month_10', 'created_month_11',\n",
       "       'created_month_12'],\n",
       "      dtype='object')"
      ]
     },
     "execution_count": 20,
     "metadata": {},
     "output_type": "execute_result"
    }
   ],
   "source": [
    "# Recurisive Feature Eliminiation\n",
    "# This is dont to identify important features by continoulsy fitting a model and then identifying best paramters\n",
    "\n",
    "\n",
    "from sklearn.feature_selection import RFE\n",
    "from sklearn.linear_model import LogisticRegression\n",
    "logreg = LogisticRegression()\n",
    "rfe = RFE(logreg, 20)\n",
    "rfe = rfe.fit(os_data_X, os_data_y.values.ravel())\n",
    "print(rfe.support_)\n",
    "print(rfe.ranking_)\n",
    "\n",
    "os_data_X.columns\n",
    "\n",
    "\n"
   ]
  },
  {
   "cell_type": "code",
   "execution_count": 21,
   "metadata": {},
   "outputs": [
    {
     "name": "stdout",
     "output_type": "stream",
     "text": [
      "Optimization terminated successfully.\n",
      "         Current function value: 0.078801\n",
      "         Iterations 11\n",
      "                               Results: Logit\n",
      "============================================================================\n",
      "Model:                  Logit                Pseudo R-squared:     0.886    \n",
      "Dependent Variable:     adopted              AIC:                  2401.6635\n",
      "Date:                   2019-09-22 21:21     BIC:                  2652.5867\n",
      "No. Observations:       14820                Log-Likelihood:       -1167.8  \n",
      "Df Model:               32                   LL-Null:              -10272.  \n",
      "Df Residuals:           14787                LLR p-value:          0.0000   \n",
      "Converged:              1.0000               Scale:                1.0000   \n",
      "No. Iterations:         11.0000                                             \n",
      "----------------------------------------------------------------------------\n",
      "                             Coef.  Std.Err.    z     P>|z|   [0.025  0.975]\n",
      "----------------------------------------------------------------------------\n",
      "opted_in_to_mailing_list    -0.4085   0.1875  -2.1780 0.0294 -0.7761 -0.0409\n",
      "enabled_for_marketing_drip  -0.5442   0.2228  -2.4423 0.0146 -0.9808 -0.1075\n",
      "creatsrc_GUEST_INVITE        2.0130   0.1829  11.0041 0.0000  1.6544  2.3715\n",
      "creatsrc_ORG_INVITE          2.0314   0.1691  12.0112 0.0000  1.6999  2.3629\n",
      "creatsrc_PERSONAL_PROJECTS   1.3110   0.2250   5.8256 0.0000  0.8699  1.7521\n",
      "creatsrc_SIGNUP              1.5037   0.1872   8.0311 0.0000  1.1367  1.8706\n",
      "creatsrc_SIGNUP_GOOGLE_AUTH  0.7649   0.2379   3.2152 0.0013  0.2986  1.2311\n",
      "email_Others                 0.5464   0.1898   2.8792 0.0040  0.1745  0.9184\n",
      "email_gmail.com              1.3021   0.1881   6.9222 0.0000  0.9334  1.6708\n",
      "email_gustr.com              0.2336   0.2569   0.9096 0.3630 -0.2698  0.7371\n",
      "email_hotmail.com            0.5629   0.2256   2.4949 0.0126  0.1207  1.0050\n",
      "email_jourrapide.com         0.0636   0.2273   0.2798 0.7796 -0.3819  0.5091\n",
      "email_yahoo.com              0.0160   0.1930   0.0827 0.9341 -0.3622  0.3941\n",
      "month_diff_0.0              -7.6147   0.2219 -34.3183 0.0000 -8.0495 -7.1798\n",
      "month_diff_1.0              -2.8013   0.1868 -14.9980 0.0000 -3.1674 -2.4352\n",
      "month_diff_2.0              -1.4159   0.1920  -7.3726 0.0000 -1.7923 -1.0395\n",
      "month_diff_3.0               0.3592   0.2346   1.5312 0.1257 -0.1006  0.8190\n",
      "month_diff_4.0               1.3327   0.2973   4.4824 0.0000  0.7500  1.9155\n",
      "month_diff_5.0               1.3909   0.3268   4.2566 0.0000  0.7505  2.0314\n",
      "month_diff_6.0               3.4014   0.6349   5.3578 0.0000  2.1571  4.6458\n",
      "month_diff_7-25              5.5134   0.4700  11.7302 0.0000  4.5922  6.4347\n",
      "created_month_01             0.0545   0.2629   0.2074 0.8357 -0.4607  0.5697\n",
      "created_month_02             0.1282   0.2395   0.5352 0.5925 -0.3413  0.5976\n",
      "created_month_03             1.0616   0.1964   5.4064 0.0000  0.6767  1.4464\n",
      "created_month_04             1.1688   0.2286   5.1132 0.0000  0.7208  1.6168\n",
      "created_month_05             0.2770   0.3479   0.7963 0.4259 -0.4048  0.9588\n",
      "created_month_06            -0.2314   0.3025  -0.7650 0.4443 -0.8244  0.3615\n",
      "created_month_07            -0.8710   0.3668  -2.3744 0.0176 -1.5900 -0.1520\n",
      "created_month_08            -0.3994   0.3300  -1.2102 0.2262 -1.0463  0.2475\n",
      "created_month_09            -1.0630   0.3542  -3.0008 0.0027 -1.7573 -0.3687\n",
      "created_month_10            -0.1413   0.3093  -0.4569 0.6478 -0.7475  0.4649\n",
      "created_month_11            -0.1255   0.2883  -0.4355 0.6632 -0.6905  0.4394\n",
      "created_month_12             0.1449   0.2731   0.5305 0.5958 -0.3904  0.6802\n",
      "============================================================================\n",
      "\n"
     ]
    }
   ],
   "source": [
    "import statsmodels.api as sm\n",
    "logit_model=sm.Logit(os_data_y,os_data_X)\n",
    "result=logit_model.fit()\n",
    "print(result.summary2())"
   ]
  },
  {
   "cell_type": "code",
   "execution_count": 22,
   "metadata": {},
   "outputs": [],
   "source": [
    "## Takiing only column with p-value<=0.05\n",
    "\n",
    "\n",
    "to_drop=['email_gustr.com','email_jourrapide.com','email_yahoo.com','month_diff_3.0','created_month_01','created_month_02','created_month_05','created_month_06','created_month_08','created_month_10','created_month_11','created_month_12']"
   ]
  },
  {
   "cell_type": "code",
   "execution_count": 26,
   "metadata": {},
   "outputs": [
    {
     "data": {
      "text/plain": [
       "Index(['opted_in_to_mailing_list', 'enabled_for_marketing_drip',\n",
       "       'creatsrc_GUEST_INVITE', 'creatsrc_ORG_INVITE',\n",
       "       'creatsrc_PERSONAL_PROJECTS', 'creatsrc_SIGNUP',\n",
       "       'creatsrc_SIGNUP_GOOGLE_AUTH', 'email_Others', 'email_gmail.com',\n",
       "       'email_hotmail.com', 'month_diff_0.0', 'month_diff_1.0',\n",
       "       'month_diff_2.0', 'month_diff_4.0', 'month_diff_5.0', 'month_diff_6.0',\n",
       "       'month_diff_7-25', 'created_month_03', 'created_month_04',\n",
       "       'created_month_07', 'created_month_09'],\n",
       "      dtype='object')"
      ]
     },
     "execution_count": 26,
     "metadata": {},
     "output_type": "execute_result"
    }
   ],
   "source": [
    "\n",
    "os_data_X.columns\n",
    "to_drop=['email_gustr.com','email_jourrapide.com','email_yahoo.com','month_diff_3.0','created_month_01','created_month_02','created_month_05','created_month_06','created_month_08','created_month_10','created_month_11','created_month_12']\n",
    "os_data_X=os_data_X.drop(columns=to_drop,axis=1)\n",
    "os_data_X.columns"
   ]
  },
  {
   "cell_type": "code",
   "execution_count": 27,
   "metadata": {},
   "outputs": [
    {
     "name": "stdout",
     "output_type": "stream",
     "text": [
      "Accuracy of logistic regression classifier on test set: 0.97\n"
     ]
    },
    {
     "name": "stderr",
     "output_type": "stream",
     "text": [
      "C:\\Users\\chintana\\Anaconda3\\lib\\site-packages\\sklearn\\linear_model\\logistic.py:432: FutureWarning: Default solver will be changed to 'lbfgs' in 0.22. Specify a solver to silence this warning.\n",
      "  FutureWarning)\n",
      "C:\\Users\\chintana\\Anaconda3\\lib\\site-packages\\sklearn\\utils\\validation.py:724: DataConversionWarning: A column-vector y was passed when a 1d array was expected. Please change the shape of y to (n_samples, ), for example using ravel().\n",
      "  y = column_or_1d(y, warn=True)\n"
     ]
    }
   ],
   "source": [
    "## Logistic REgression\n",
    "\n",
    "from sklearn.linear_model import LogisticRegression\n",
    "from sklearn import metrics\n",
    "\n",
    "\n",
    "X_train_os, X_test_os, y_train_os, y_test_os = train_test_split(os_data_X, os_data_y, test_size=0.3, random_state=0)\n",
    "logreg = LogisticRegression()\n",
    "logreg.fit(X_train_os, y_train_os)\n",
    "y_pred = logreg.predict(X_test_os)\n",
    "print('Accuracy of logistic regression classifier on test set: {:.2f}'.format(logreg.score(X_test_os, y_test_os)))\n"
   ]
  },
  {
   "cell_type": "code",
   "execution_count": 28,
   "metadata": {},
   "outputs": [
    {
     "name": "stdout",
     "output_type": "stream",
     "text": [
      "[[2130   77]\n",
      " [  45 2194]]\n",
      "              precision    recall  f1-score   support\n",
      "\n",
      "           0       0.98      0.97      0.97      2207\n",
      "           1       0.97      0.98      0.97      2239\n",
      "\n",
      "    accuracy                           0.97      4446\n",
      "   macro avg       0.97      0.97      0.97      4446\n",
      "weighted avg       0.97      0.97      0.97      4446\n",
      "\n"
     ]
    }
   ],
   "source": [
    "\n",
    "from sklearn.metrics import confusion_matrix\n",
    "confusion_matrix = confusion_matrix(y_test_os, y_pred)\n",
    "print(confusion_matrix)\n",
    "from sklearn.metrics import classification_report\n",
    "print(classification_report(y_test_os, y_pred))"
   ]
  },
  {
   "cell_type": "code",
   "execution_count": 29,
   "metadata": {},
   "outputs": [
    {
     "data": {
      "text/plain": [
       "0.8902327302000841"
      ]
     },
     "execution_count": 29,
     "metadata": {},
     "output_type": "execute_result"
    }
   ],
   "source": [
    "from sklearn.metrics import r2_score\n",
    "r2_score(y_test_os, y_pred)   "
   ]
  },
  {
   "cell_type": "code",
   "execution_count": 31,
   "metadata": {},
   "outputs": [
    {
     "data": {
      "text/plain": [
       "Index(['opted_in_to_mailing_list', 'enabled_for_marketing_drip',\n",
       "       'creatsrc_GUEST_INVITE', 'creatsrc_ORG_INVITE',\n",
       "       'creatsrc_PERSONAL_PROJECTS', 'creatsrc_SIGNUP',\n",
       "       'creatsrc_SIGNUP_GOOGLE_AUTH', 'email_Others', 'email_gmail.com',\n",
       "       'email_hotmail.com', 'created_month_03', 'created_month_04',\n",
       "       'created_month_07', 'created_month_09'],\n",
       "      dtype='object')"
      ]
     },
     "execution_count": 31,
     "metadata": {},
     "output_type": "execute_result"
    }
   ],
   "source": [
    "#### We see that we are getting a very high accuracy mayb because you are using the Engagment data which is in the \n",
    "# column diff_month, so lets try to re-run the model by removing those columns\n",
    "to_drop1=['month_diff_0.0', 'month_diff_1.0',\n",
    "       'month_diff_2.0', 'month_diff_4.0', 'month_diff_5.0', 'month_diff_6.0',\n",
    "       'month_diff_7-25']\n",
    "os_data_X1=os_data_X.drop(columns=to_drop1,axis=1)\n",
    "os_data_X1.columns"
   ]
  },
  {
   "cell_type": "code",
   "execution_count": 37,
   "metadata": {},
   "outputs": [
    {
     "name": "stdout",
     "output_type": "stream",
     "text": [
      "Accuracy of logistic regression classifier on test set: 0.61\n",
      "              precision    recall  f1-score   support\n",
      "\n",
      "           0       0.62      0.55      0.59      2207\n",
      "           1       0.60      0.67      0.63      2239\n",
      "\n",
      "    accuracy                           0.61      4446\n",
      "   macro avg       0.61      0.61      0.61      4446\n",
      "weighted avg       0.61      0.61      0.61      4446\n",
      "\n",
      "-0.5556361433119232\n"
     ]
    },
    {
     "name": "stderr",
     "output_type": "stream",
     "text": [
      "C:\\Users\\chintana\\Anaconda3\\lib\\site-packages\\sklearn\\linear_model\\logistic.py:432: FutureWarning: Default solver will be changed to 'lbfgs' in 0.22. Specify a solver to silence this warning.\n",
      "  FutureWarning)\n",
      "C:\\Users\\chintana\\Anaconda3\\lib\\site-packages\\sklearn\\utils\\validation.py:724: DataConversionWarning: A column-vector y was passed when a 1d array was expected. Please change the shape of y to (n_samples, ), for example using ravel().\n",
      "  y = column_or_1d(y, warn=True)\n"
     ]
    }
   ],
   "source": [
    "## Logistic REgression after remocing User Engagement Information\n",
    "\n",
    "\n",
    "\n",
    "X_train_os1, X_test_os1, y_train_os1, y_test_os1 = train_test_split(os_data_X1, os_data_y, test_size=0.3, random_state=0)\n",
    "logreg1 = LogisticRegression()\n",
    "logreg1.fit(X_train_os1, y_train_os1)\n",
    "y_pred1 = logreg1.predict(X_test_os1)\n",
    "print('Accuracy of logistic regression classifier on test set: {:.2f}'.format(logreg1.score(X_test_os1, y_test_os1)))\n",
    "\n",
    "#confusion_matrix = confusion_matrix(y_test_os1, y_pred1)\n",
    "#print(confusion_matrix)\n",
    "\n",
    "print(classification_report(y_test_os1, y_pred1))\n",
    "print(r2_score(y_test_os1, y_pred1) )\n",
    "\n",
    "\n",
    "## After running this model we get an accuracy of 61% which has dropped because we have removed Engagement Information"
   ]
  },
  {
   "cell_type": "code",
   "execution_count": 38,
   "metadata": {},
   "outputs": [
    {
     "data": {
      "text/plain": [
       "array([[-0.38732274, -0.21193129, -2.84381129, -3.15058053, -4.12090583,\n",
       "        -3.06935937, -2.9372517 , -0.29997962, -0.08981712,  0.20627002,\n",
       "        -0.74383032, -0.9596971 , -0.08778914, -0.18035639]])"
      ]
     },
     "execution_count": 38,
     "metadata": {},
     "output_type": "execute_result"
    }
   ],
   "source": [
    "## After running this model we get an accuracy of 61% which has dropped because we have removed Engagement Information\n",
    "## We use the coef_ paramter of Logistic REgression to identify the important features \n",
    "logreg1.coef_"
   ]
  },
  {
   "cell_type": "code",
   "execution_count": 40,
   "metadata": {},
   "outputs": [
    {
     "data": {
      "image/png": "[encoded data removed]",
      "text/plain": [
       "<Figure size 432x288 with 1 Axes>"
      ]
     },
     "metadata": {},
     "output_type": "display_data"
    }
   ],
   "source": [
    "feature_importance = abs(logreg1.coef_[0])\n",
    "feature_importance = 100.0 * (feature_importance / feature_importance.max())\n",
    "sorted_idx = np.argsort(feature_importance)\n",
    "pos = np.arange(sorted_idx.shape[0]) + .5\n",
    "\n",
    "featfig = plt.figure()\n",
    "featax = featfig.add_subplot(1, 1, 1)\n",
    "featax.barh(pos, feature_importance[sorted_idx], align='center')\n",
    "featax.set_yticks(pos)\n",
    "featax.set_yticklabels(np.array(X_train_os1.columns)[sorted_idx], fontsize=8)\n",
    "featax.set_xlabel('Relative Feature Importance')\n",
    "\n",
    "plt.tight_layout()   \n",
    "plt.show()"
   ]
  },
  {
   "attachments": {},
   "cell_type": "markdown",
   "metadata": {},
   "source": [
    "So based on the above graph we identify he most imporant paramters as below\n",
    "\n",
    "1.) creation source with all 5 paramters encoded\n",
    "2.) and if the account was created 'creation_time' in month 4 (April) and month 03 hich is March\n",
    "3.) If the user is 'opted_in_mailing_list'\n",
    "\n",
    "If we are able to use engagement information we can use the difference in time between account creation and last session creation column and use that in our model for more accuracy"
   ]
  }
 ],
 "metadata": {
  "kernelspec": {
   "display_name": "Python 3",
   "language": "python",
   "name": "python3"
  },
  "language_info": {
   "codemirror_mode": {
    "name": "ipython",
    "version": 3
   },
   "file_extension": ".py",
   "mimetype": "text/x-python",
   "name": "python",
   "nbconvert_exporter": "python",
   "pygments_lexer": "ipython3",
   "version": "3.7.3"
  }
 },
 "nbformat": 4,
 "nbformat_minor": 2
}
